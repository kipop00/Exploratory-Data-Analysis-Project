{
 "cells": [
  {
   "cell_type": "markdown",
   "id": "c7688ed9-15aa-4f68-b9eb-4e8002df549d",
   "metadata": {
    "tags": []
   },
   "source": [
    "## Importing ##"
   ]
  },
  {
   "cell_type": "code",
   "execution_count": 11,
   "id": "a14d2735-af28-4116-89c2-76f1e717e811",
   "metadata": {
    "tags": []
   },
   "outputs": [],
   "source": [
    "import numpy as np\n",
    "import seaborn as sns\n",
    "import matplotlib.pyplot as plt\n",
    "import pandas as pd\n",
    "import datetime\n",
    "import ast"
   ]
  },
  {
   "cell_type": "code",
   "execution_count": 12,
   "id": "738bc041-a322-43a9-94a4-58d1672522db",
   "metadata": {
    "tags": []
   },
   "outputs": [
    {
     "data": {
      "text/html": [
       "<div>\n",
       "<style scoped>\n",
       "    .dataframe tbody tr th:only-of-type {\n",
       "        vertical-align: middle;\n",
       "    }\n",
       "\n",
       "    .dataframe tbody tr th {\n",
       "        vertical-align: top;\n",
       "    }\n",
       "\n",
       "    .dataframe thead th {\n",
       "        text-align: right;\n",
       "    }\n",
       "</style>\n",
       "<table border=\"1\" class=\"dataframe\">\n",
       "  <thead>\n",
       "    <tr style=\"text-align: right;\">\n",
       "      <th></th>\n",
       "      <th>budget</th>\n",
       "      <th>genres</th>\n",
       "      <th>homepage</th>\n",
       "      <th>id</th>\n",
       "      <th>keywords</th>\n",
       "      <th>original_language</th>\n",
       "      <th>original_title</th>\n",
       "      <th>overview</th>\n",
       "      <th>popularity</th>\n",
       "      <th>production_companies</th>\n",
       "      <th>production_countries</th>\n",
       "      <th>release_date</th>\n",
       "      <th>revenue</th>\n",
       "      <th>runtime</th>\n",
       "      <th>spoken_languages</th>\n",
       "      <th>status</th>\n",
       "      <th>tagline</th>\n",
       "      <th>title</th>\n",
       "      <th>vote_average</th>\n",
       "      <th>vote_count</th>\n",
       "    </tr>\n",
       "  </thead>\n",
       "  <tbody>\n",
       "    <tr>\n",
       "      <th>0</th>\n",
       "      <td>237000000</td>\n",
       "      <td>[{\"id\": 28, \"name\": \"Action\"}, {\"id\": 12, \"nam...</td>\n",
       "      <td>http://www.avatarmovie.com/</td>\n",
       "      <td>19995</td>\n",
       "      <td>[{\"id\": 1463, \"name\": \"culture clash\"}, {\"id\":...</td>\n",
       "      <td>en</td>\n",
       "      <td>Avatar</td>\n",
       "      <td>In the 22nd century, a paraplegic Marine is di...</td>\n",
       "      <td>150.437577</td>\n",
       "      <td>[{\"name\": \"Ingenious Film Partners\", \"id\": 289...</td>\n",
       "      <td>[{\"iso_3166_1\": \"US\", \"name\": \"United States o...</td>\n",
       "      <td>2009-12-10</td>\n",
       "      <td>2787965087</td>\n",
       "      <td>162.0</td>\n",
       "      <td>[{\"iso_639_1\": \"en\", \"name\": \"English\"}, {\"iso...</td>\n",
       "      <td>Released</td>\n",
       "      <td>Enter the World of Pandora.</td>\n",
       "      <td>Avatar</td>\n",
       "      <td>7.2</td>\n",
       "      <td>11800</td>\n",
       "    </tr>\n",
       "    <tr>\n",
       "      <th>1</th>\n",
       "      <td>300000000</td>\n",
       "      <td>[{\"id\": 12, \"name\": \"Adventure\"}, {\"id\": 14, \"...</td>\n",
       "      <td>http://disney.go.com/disneypictures/pirates/</td>\n",
       "      <td>285</td>\n",
       "      <td>[{\"id\": 270, \"name\": \"ocean\"}, {\"id\": 726, \"na...</td>\n",
       "      <td>en</td>\n",
       "      <td>Pirates of the Caribbean: At World's End</td>\n",
       "      <td>Captain Barbossa, long believed to be dead, ha...</td>\n",
       "      <td>139.082615</td>\n",
       "      <td>[{\"name\": \"Walt Disney Pictures\", \"id\": 2}, {\"...</td>\n",
       "      <td>[{\"iso_3166_1\": \"US\", \"name\": \"United States o...</td>\n",
       "      <td>2007-05-19</td>\n",
       "      <td>961000000</td>\n",
       "      <td>169.0</td>\n",
       "      <td>[{\"iso_639_1\": \"en\", \"name\": \"English\"}]</td>\n",
       "      <td>Released</td>\n",
       "      <td>At the end of the world, the adventure begins.</td>\n",
       "      <td>Pirates of the Caribbean: At World's End</td>\n",
       "      <td>6.9</td>\n",
       "      <td>4500</td>\n",
       "    </tr>\n",
       "    <tr>\n",
       "      <th>2</th>\n",
       "      <td>245000000</td>\n",
       "      <td>[{\"id\": 28, \"name\": \"Action\"}, {\"id\": 12, \"nam...</td>\n",
       "      <td>http://www.sonypictures.com/movies/spectre/</td>\n",
       "      <td>206647</td>\n",
       "      <td>[{\"id\": 470, \"name\": \"spy\"}, {\"id\": 818, \"name...</td>\n",
       "      <td>en</td>\n",
       "      <td>Spectre</td>\n",
       "      <td>A cryptic message from Bond’s past sends him o...</td>\n",
       "      <td>107.376788</td>\n",
       "      <td>[{\"name\": \"Columbia Pictures\", \"id\": 5}, {\"nam...</td>\n",
       "      <td>[{\"iso_3166_1\": \"GB\", \"name\": \"United Kingdom\"...</td>\n",
       "      <td>2015-10-26</td>\n",
       "      <td>880674609</td>\n",
       "      <td>148.0</td>\n",
       "      <td>[{\"iso_639_1\": \"fr\", \"name\": \"Fran\\u00e7ais\"},...</td>\n",
       "      <td>Released</td>\n",
       "      <td>A Plan No One Escapes</td>\n",
       "      <td>Spectre</td>\n",
       "      <td>6.3</td>\n",
       "      <td>4466</td>\n",
       "    </tr>\n",
       "    <tr>\n",
       "      <th>3</th>\n",
       "      <td>250000000</td>\n",
       "      <td>[{\"id\": 28, \"name\": \"Action\"}, {\"id\": 80, \"nam...</td>\n",
       "      <td>http://www.thedarkknightrises.com/</td>\n",
       "      <td>49026</td>\n",
       "      <td>[{\"id\": 849, \"name\": \"dc comics\"}, {\"id\": 853,...</td>\n",
       "      <td>en</td>\n",
       "      <td>The Dark Knight Rises</td>\n",
       "      <td>Following the death of District Attorney Harve...</td>\n",
       "      <td>112.312950</td>\n",
       "      <td>[{\"name\": \"Legendary Pictures\", \"id\": 923}, {\"...</td>\n",
       "      <td>[{\"iso_3166_1\": \"US\", \"name\": \"United States o...</td>\n",
       "      <td>2012-07-16</td>\n",
       "      <td>1084939099</td>\n",
       "      <td>165.0</td>\n",
       "      <td>[{\"iso_639_1\": \"en\", \"name\": \"English\"}]</td>\n",
       "      <td>Released</td>\n",
       "      <td>The Legend Ends</td>\n",
       "      <td>The Dark Knight Rises</td>\n",
       "      <td>7.6</td>\n",
       "      <td>9106</td>\n",
       "    </tr>\n",
       "    <tr>\n",
       "      <th>4</th>\n",
       "      <td>260000000</td>\n",
       "      <td>[{\"id\": 28, \"name\": \"Action\"}, {\"id\": 12, \"nam...</td>\n",
       "      <td>http://movies.disney.com/john-carter</td>\n",
       "      <td>49529</td>\n",
       "      <td>[{\"id\": 818, \"name\": \"based on novel\"}, {\"id\":...</td>\n",
       "      <td>en</td>\n",
       "      <td>John Carter</td>\n",
       "      <td>John Carter is a war-weary, former military ca...</td>\n",
       "      <td>43.926995</td>\n",
       "      <td>[{\"name\": \"Walt Disney Pictures\", \"id\": 2}]</td>\n",
       "      <td>[{\"iso_3166_1\": \"US\", \"name\": \"United States o...</td>\n",
       "      <td>2012-03-07</td>\n",
       "      <td>284139100</td>\n",
       "      <td>132.0</td>\n",
       "      <td>[{\"iso_639_1\": \"en\", \"name\": \"English\"}]</td>\n",
       "      <td>Released</td>\n",
       "      <td>Lost in our world, found in another.</td>\n",
       "      <td>John Carter</td>\n",
       "      <td>6.1</td>\n",
       "      <td>2124</td>\n",
       "    </tr>\n",
       "  </tbody>\n",
       "</table>\n",
       "</div>"
      ],
      "text/plain": [
       "      budget                                             genres  \\\n",
       "0  237000000  [{\"id\": 28, \"name\": \"Action\"}, {\"id\": 12, \"nam...   \n",
       "1  300000000  [{\"id\": 12, \"name\": \"Adventure\"}, {\"id\": 14, \"...   \n",
       "2  245000000  [{\"id\": 28, \"name\": \"Action\"}, {\"id\": 12, \"nam...   \n",
       "3  250000000  [{\"id\": 28, \"name\": \"Action\"}, {\"id\": 80, \"nam...   \n",
       "4  260000000  [{\"id\": 28, \"name\": \"Action\"}, {\"id\": 12, \"nam...   \n",
       "\n",
       "                                       homepage      id  \\\n",
       "0                   http://www.avatarmovie.com/   19995   \n",
       "1  http://disney.go.com/disneypictures/pirates/     285   \n",
       "2   http://www.sonypictures.com/movies/spectre/  206647   \n",
       "3            http://www.thedarkknightrises.com/   49026   \n",
       "4          http://movies.disney.com/john-carter   49529   \n",
       "\n",
       "                                            keywords original_language  \\\n",
       "0  [{\"id\": 1463, \"name\": \"culture clash\"}, {\"id\":...                en   \n",
       "1  [{\"id\": 270, \"name\": \"ocean\"}, {\"id\": 726, \"na...                en   \n",
       "2  [{\"id\": 470, \"name\": \"spy\"}, {\"id\": 818, \"name...                en   \n",
       "3  [{\"id\": 849, \"name\": \"dc comics\"}, {\"id\": 853,...                en   \n",
       "4  [{\"id\": 818, \"name\": \"based on novel\"}, {\"id\":...                en   \n",
       "\n",
       "                             original_title  \\\n",
       "0                                    Avatar   \n",
       "1  Pirates of the Caribbean: At World's End   \n",
       "2                                   Spectre   \n",
       "3                     The Dark Knight Rises   \n",
       "4                               John Carter   \n",
       "\n",
       "                                            overview  popularity  \\\n",
       "0  In the 22nd century, a paraplegic Marine is di...  150.437577   \n",
       "1  Captain Barbossa, long believed to be dead, ha...  139.082615   \n",
       "2  A cryptic message from Bond’s past sends him o...  107.376788   \n",
       "3  Following the death of District Attorney Harve...  112.312950   \n",
       "4  John Carter is a war-weary, former military ca...   43.926995   \n",
       "\n",
       "                                production_companies  \\\n",
       "0  [{\"name\": \"Ingenious Film Partners\", \"id\": 289...   \n",
       "1  [{\"name\": \"Walt Disney Pictures\", \"id\": 2}, {\"...   \n",
       "2  [{\"name\": \"Columbia Pictures\", \"id\": 5}, {\"nam...   \n",
       "3  [{\"name\": \"Legendary Pictures\", \"id\": 923}, {\"...   \n",
       "4        [{\"name\": \"Walt Disney Pictures\", \"id\": 2}]   \n",
       "\n",
       "                                production_countries release_date     revenue  \\\n",
       "0  [{\"iso_3166_1\": \"US\", \"name\": \"United States o...   2009-12-10  2787965087   \n",
       "1  [{\"iso_3166_1\": \"US\", \"name\": \"United States o...   2007-05-19   961000000   \n",
       "2  [{\"iso_3166_1\": \"GB\", \"name\": \"United Kingdom\"...   2015-10-26   880674609   \n",
       "3  [{\"iso_3166_1\": \"US\", \"name\": \"United States o...   2012-07-16  1084939099   \n",
       "4  [{\"iso_3166_1\": \"US\", \"name\": \"United States o...   2012-03-07   284139100   \n",
       "\n",
       "   runtime                                   spoken_languages    status  \\\n",
       "0    162.0  [{\"iso_639_1\": \"en\", \"name\": \"English\"}, {\"iso...  Released   \n",
       "1    169.0           [{\"iso_639_1\": \"en\", \"name\": \"English\"}]  Released   \n",
       "2    148.0  [{\"iso_639_1\": \"fr\", \"name\": \"Fran\\u00e7ais\"},...  Released   \n",
       "3    165.0           [{\"iso_639_1\": \"en\", \"name\": \"English\"}]  Released   \n",
       "4    132.0           [{\"iso_639_1\": \"en\", \"name\": \"English\"}]  Released   \n",
       "\n",
       "                                          tagline  \\\n",
       "0                     Enter the World of Pandora.   \n",
       "1  At the end of the world, the adventure begins.   \n",
       "2                           A Plan No One Escapes   \n",
       "3                                 The Legend Ends   \n",
       "4            Lost in our world, found in another.   \n",
       "\n",
       "                                      title  vote_average  vote_count  \n",
       "0                                    Avatar           7.2       11800  \n",
       "1  Pirates of the Caribbean: At World's End           6.9        4500  \n",
       "2                                   Spectre           6.3        4466  \n",
       "3                     The Dark Knight Rises           7.6        9106  \n",
       "4                               John Carter           6.1        2124  "
      ]
     },
     "execution_count": 12,
     "metadata": {},
     "output_type": "execute_result"
    }
   ],
   "source": [
    "movies = pd.read_csv('TMDB_movies.csv') \n",
    "movies.head(5)"
   ]
  },
  {
   "cell_type": "markdown",
   "id": "3b862aec-9066-45b7-bdc3-0273a5571861",
   "metadata": {},
   "source": [
    "## First looks at the data ##"
   ]
  },
  {
   "cell_type": "code",
   "execution_count": 13,
   "id": "5627d667-2a75-45ce-9525-fb271612d8c8",
   "metadata": {
    "tags": []
   },
   "outputs": [
    {
     "data": {
      "text/html": [
       "<div>\n",
       "<style scoped>\n",
       "    .dataframe tbody tr th:only-of-type {\n",
       "        vertical-align: middle;\n",
       "    }\n",
       "\n",
       "    .dataframe tbody tr th {\n",
       "        vertical-align: top;\n",
       "    }\n",
       "\n",
       "    .dataframe thead th {\n",
       "        text-align: right;\n",
       "    }\n",
       "</style>\n",
       "<table border=\"1\" class=\"dataframe\">\n",
       "  <thead>\n",
       "    <tr style=\"text-align: right;\">\n",
       "      <th></th>\n",
       "      <th>budget</th>\n",
       "      <th>genres</th>\n",
       "      <th>homepage</th>\n",
       "      <th>id</th>\n",
       "      <th>keywords</th>\n",
       "      <th>original_language</th>\n",
       "      <th>original_title</th>\n",
       "      <th>overview</th>\n",
       "      <th>popularity</th>\n",
       "      <th>production_companies</th>\n",
       "      <th>production_countries</th>\n",
       "      <th>release_date</th>\n",
       "      <th>revenue</th>\n",
       "      <th>runtime</th>\n",
       "      <th>spoken_languages</th>\n",
       "      <th>status</th>\n",
       "      <th>tagline</th>\n",
       "      <th>title</th>\n",
       "      <th>vote_average</th>\n",
       "      <th>vote_count</th>\n",
       "    </tr>\n",
       "  </thead>\n",
       "  <tbody>\n",
       "    <tr>\n",
       "      <th>count</th>\n",
       "      <td>4.803000e+03</td>\n",
       "      <td>4803</td>\n",
       "      <td>1712</td>\n",
       "      <td>4803.000000</td>\n",
       "      <td>4803</td>\n",
       "      <td>4803</td>\n",
       "      <td>4803</td>\n",
       "      <td>4800</td>\n",
       "      <td>4803.000000</td>\n",
       "      <td>4803</td>\n",
       "      <td>4803</td>\n",
       "      <td>4802</td>\n",
       "      <td>4.803000e+03</td>\n",
       "      <td>4801.000000</td>\n",
       "      <td>4803</td>\n",
       "      <td>4803</td>\n",
       "      <td>3959</td>\n",
       "      <td>4803</td>\n",
       "      <td>4803.000000</td>\n",
       "      <td>4803.000000</td>\n",
       "    </tr>\n",
       "    <tr>\n",
       "      <th>unique</th>\n",
       "      <td>NaN</td>\n",
       "      <td>1175</td>\n",
       "      <td>1691</td>\n",
       "      <td>NaN</td>\n",
       "      <td>4222</td>\n",
       "      <td>37</td>\n",
       "      <td>4801</td>\n",
       "      <td>4800</td>\n",
       "      <td>NaN</td>\n",
       "      <td>3697</td>\n",
       "      <td>469</td>\n",
       "      <td>3280</td>\n",
       "      <td>NaN</td>\n",
       "      <td>NaN</td>\n",
       "      <td>544</td>\n",
       "      <td>3</td>\n",
       "      <td>3944</td>\n",
       "      <td>4800</td>\n",
       "      <td>NaN</td>\n",
       "      <td>NaN</td>\n",
       "    </tr>\n",
       "    <tr>\n",
       "      <th>top</th>\n",
       "      <td>NaN</td>\n",
       "      <td>[{\"id\": 18, \"name\": \"Drama\"}]</td>\n",
       "      <td>http://www.missionimpossible.com/</td>\n",
       "      <td>NaN</td>\n",
       "      <td>[]</td>\n",
       "      <td>en</td>\n",
       "      <td>Out of the Blue</td>\n",
       "      <td>In the 22nd century, a paraplegic Marine is di...</td>\n",
       "      <td>NaN</td>\n",
       "      <td>[]</td>\n",
       "      <td>[{\"iso_3166_1\": \"US\", \"name\": \"United States o...</td>\n",
       "      <td>2006-01-01</td>\n",
       "      <td>NaN</td>\n",
       "      <td>NaN</td>\n",
       "      <td>[{\"iso_639_1\": \"en\", \"name\": \"English\"}]</td>\n",
       "      <td>Released</td>\n",
       "      <td>Based on a true story.</td>\n",
       "      <td>The Host</td>\n",
       "      <td>NaN</td>\n",
       "      <td>NaN</td>\n",
       "    </tr>\n",
       "    <tr>\n",
       "      <th>freq</th>\n",
       "      <td>NaN</td>\n",
       "      <td>370</td>\n",
       "      <td>4</td>\n",
       "      <td>NaN</td>\n",
       "      <td>412</td>\n",
       "      <td>4505</td>\n",
       "      <td>2</td>\n",
       "      <td>1</td>\n",
       "      <td>NaN</td>\n",
       "      <td>351</td>\n",
       "      <td>2977</td>\n",
       "      <td>10</td>\n",
       "      <td>NaN</td>\n",
       "      <td>NaN</td>\n",
       "      <td>3171</td>\n",
       "      <td>4795</td>\n",
       "      <td>3</td>\n",
       "      <td>2</td>\n",
       "      <td>NaN</td>\n",
       "      <td>NaN</td>\n",
       "    </tr>\n",
       "    <tr>\n",
       "      <th>mean</th>\n",
       "      <td>2.904504e+07</td>\n",
       "      <td>NaN</td>\n",
       "      <td>NaN</td>\n",
       "      <td>57165.484281</td>\n",
       "      <td>NaN</td>\n",
       "      <td>NaN</td>\n",
       "      <td>NaN</td>\n",
       "      <td>NaN</td>\n",
       "      <td>21.492301</td>\n",
       "      <td>NaN</td>\n",
       "      <td>NaN</td>\n",
       "      <td>NaN</td>\n",
       "      <td>8.226064e+07</td>\n",
       "      <td>106.875859</td>\n",
       "      <td>NaN</td>\n",
       "      <td>NaN</td>\n",
       "      <td>NaN</td>\n",
       "      <td>NaN</td>\n",
       "      <td>6.092172</td>\n",
       "      <td>690.217989</td>\n",
       "    </tr>\n",
       "    <tr>\n",
       "      <th>std</th>\n",
       "      <td>4.072239e+07</td>\n",
       "      <td>NaN</td>\n",
       "      <td>NaN</td>\n",
       "      <td>88694.614033</td>\n",
       "      <td>NaN</td>\n",
       "      <td>NaN</td>\n",
       "      <td>NaN</td>\n",
       "      <td>NaN</td>\n",
       "      <td>31.816650</td>\n",
       "      <td>NaN</td>\n",
       "      <td>NaN</td>\n",
       "      <td>NaN</td>\n",
       "      <td>1.628571e+08</td>\n",
       "      <td>22.611935</td>\n",
       "      <td>NaN</td>\n",
       "      <td>NaN</td>\n",
       "      <td>NaN</td>\n",
       "      <td>NaN</td>\n",
       "      <td>1.194612</td>\n",
       "      <td>1234.585891</td>\n",
       "    </tr>\n",
       "    <tr>\n",
       "      <th>min</th>\n",
       "      <td>0.000000e+00</td>\n",
       "      <td>NaN</td>\n",
       "      <td>NaN</td>\n",
       "      <td>5.000000</td>\n",
       "      <td>NaN</td>\n",
       "      <td>NaN</td>\n",
       "      <td>NaN</td>\n",
       "      <td>NaN</td>\n",
       "      <td>0.000000</td>\n",
       "      <td>NaN</td>\n",
       "      <td>NaN</td>\n",
       "      <td>NaN</td>\n",
       "      <td>0.000000e+00</td>\n",
       "      <td>0.000000</td>\n",
       "      <td>NaN</td>\n",
       "      <td>NaN</td>\n",
       "      <td>NaN</td>\n",
       "      <td>NaN</td>\n",
       "      <td>0.000000</td>\n",
       "      <td>0.000000</td>\n",
       "    </tr>\n",
       "    <tr>\n",
       "      <th>25%</th>\n",
       "      <td>7.900000e+05</td>\n",
       "      <td>NaN</td>\n",
       "      <td>NaN</td>\n",
       "      <td>9014.500000</td>\n",
       "      <td>NaN</td>\n",
       "      <td>NaN</td>\n",
       "      <td>NaN</td>\n",
       "      <td>NaN</td>\n",
       "      <td>4.668070</td>\n",
       "      <td>NaN</td>\n",
       "      <td>NaN</td>\n",
       "      <td>NaN</td>\n",
       "      <td>0.000000e+00</td>\n",
       "      <td>94.000000</td>\n",
       "      <td>NaN</td>\n",
       "      <td>NaN</td>\n",
       "      <td>NaN</td>\n",
       "      <td>NaN</td>\n",
       "      <td>5.600000</td>\n",
       "      <td>54.000000</td>\n",
       "    </tr>\n",
       "    <tr>\n",
       "      <th>50%</th>\n",
       "      <td>1.500000e+07</td>\n",
       "      <td>NaN</td>\n",
       "      <td>NaN</td>\n",
       "      <td>14629.000000</td>\n",
       "      <td>NaN</td>\n",
       "      <td>NaN</td>\n",
       "      <td>NaN</td>\n",
       "      <td>NaN</td>\n",
       "      <td>12.921594</td>\n",
       "      <td>NaN</td>\n",
       "      <td>NaN</td>\n",
       "      <td>NaN</td>\n",
       "      <td>1.917000e+07</td>\n",
       "      <td>103.000000</td>\n",
       "      <td>NaN</td>\n",
       "      <td>NaN</td>\n",
       "      <td>NaN</td>\n",
       "      <td>NaN</td>\n",
       "      <td>6.200000</td>\n",
       "      <td>235.000000</td>\n",
       "    </tr>\n",
       "    <tr>\n",
       "      <th>75%</th>\n",
       "      <td>4.000000e+07</td>\n",
       "      <td>NaN</td>\n",
       "      <td>NaN</td>\n",
       "      <td>58610.500000</td>\n",
       "      <td>NaN</td>\n",
       "      <td>NaN</td>\n",
       "      <td>NaN</td>\n",
       "      <td>NaN</td>\n",
       "      <td>28.313505</td>\n",
       "      <td>NaN</td>\n",
       "      <td>NaN</td>\n",
       "      <td>NaN</td>\n",
       "      <td>9.291719e+07</td>\n",
       "      <td>118.000000</td>\n",
       "      <td>NaN</td>\n",
       "      <td>NaN</td>\n",
       "      <td>NaN</td>\n",
       "      <td>NaN</td>\n",
       "      <td>6.800000</td>\n",
       "      <td>737.000000</td>\n",
       "    </tr>\n",
       "    <tr>\n",
       "      <th>max</th>\n",
       "      <td>3.800000e+08</td>\n",
       "      <td>NaN</td>\n",
       "      <td>NaN</td>\n",
       "      <td>459488.000000</td>\n",
       "      <td>NaN</td>\n",
       "      <td>NaN</td>\n",
       "      <td>NaN</td>\n",
       "      <td>NaN</td>\n",
       "      <td>875.581305</td>\n",
       "      <td>NaN</td>\n",
       "      <td>NaN</td>\n",
       "      <td>NaN</td>\n",
       "      <td>2.787965e+09</td>\n",
       "      <td>338.000000</td>\n",
       "      <td>NaN</td>\n",
       "      <td>NaN</td>\n",
       "      <td>NaN</td>\n",
       "      <td>NaN</td>\n",
       "      <td>10.000000</td>\n",
       "      <td>13752.000000</td>\n",
       "    </tr>\n",
       "  </tbody>\n",
       "</table>\n",
       "</div>"
      ],
      "text/plain": [
       "              budget                         genres  \\\n",
       "count   4.803000e+03                           4803   \n",
       "unique           NaN                           1175   \n",
       "top              NaN  [{\"id\": 18, \"name\": \"Drama\"}]   \n",
       "freq             NaN                            370   \n",
       "mean    2.904504e+07                            NaN   \n",
       "std     4.072239e+07                            NaN   \n",
       "min     0.000000e+00                            NaN   \n",
       "25%     7.900000e+05                            NaN   \n",
       "50%     1.500000e+07                            NaN   \n",
       "75%     4.000000e+07                            NaN   \n",
       "max     3.800000e+08                            NaN   \n",
       "\n",
       "                                 homepage             id keywords  \\\n",
       "count                                1712    4803.000000     4803   \n",
       "unique                               1691            NaN     4222   \n",
       "top     http://www.missionimpossible.com/            NaN       []   \n",
       "freq                                    4            NaN      412   \n",
       "mean                                  NaN   57165.484281      NaN   \n",
       "std                                   NaN   88694.614033      NaN   \n",
       "min                                   NaN       5.000000      NaN   \n",
       "25%                                   NaN    9014.500000      NaN   \n",
       "50%                                   NaN   14629.000000      NaN   \n",
       "75%                                   NaN   58610.500000      NaN   \n",
       "max                                   NaN  459488.000000      NaN   \n",
       "\n",
       "       original_language   original_title  \\\n",
       "count               4803             4803   \n",
       "unique                37             4801   \n",
       "top                   en  Out of the Blue   \n",
       "freq                4505                2   \n",
       "mean                 NaN              NaN   \n",
       "std                  NaN              NaN   \n",
       "min                  NaN              NaN   \n",
       "25%                  NaN              NaN   \n",
       "50%                  NaN              NaN   \n",
       "75%                  NaN              NaN   \n",
       "max                  NaN              NaN   \n",
       "\n",
       "                                                 overview   popularity  \\\n",
       "count                                                4800  4803.000000   \n",
       "unique                                               4800          NaN   \n",
       "top     In the 22nd century, a paraplegic Marine is di...          NaN   \n",
       "freq                                                    1          NaN   \n",
       "mean                                                  NaN    21.492301   \n",
       "std                                                   NaN    31.816650   \n",
       "min                                                   NaN     0.000000   \n",
       "25%                                                   NaN     4.668070   \n",
       "50%                                                   NaN    12.921594   \n",
       "75%                                                   NaN    28.313505   \n",
       "max                                                   NaN   875.581305   \n",
       "\n",
       "       production_companies  \\\n",
       "count                  4803   \n",
       "unique                 3697   \n",
       "top                      []   \n",
       "freq                    351   \n",
       "mean                    NaN   \n",
       "std                     NaN   \n",
       "min                     NaN   \n",
       "25%                     NaN   \n",
       "50%                     NaN   \n",
       "75%                     NaN   \n",
       "max                     NaN   \n",
       "\n",
       "                                     production_countries release_date  \\\n",
       "count                                                4803         4802   \n",
       "unique                                                469         3280   \n",
       "top     [{\"iso_3166_1\": \"US\", \"name\": \"United States o...   2006-01-01   \n",
       "freq                                                 2977           10   \n",
       "mean                                                  NaN          NaN   \n",
       "std                                                   NaN          NaN   \n",
       "min                                                   NaN          NaN   \n",
       "25%                                                   NaN          NaN   \n",
       "50%                                                   NaN          NaN   \n",
       "75%                                                   NaN          NaN   \n",
       "max                                                   NaN          NaN   \n",
       "\n",
       "             revenue      runtime                          spoken_languages  \\\n",
       "count   4.803000e+03  4801.000000                                      4803   \n",
       "unique           NaN          NaN                                       544   \n",
       "top              NaN          NaN  [{\"iso_639_1\": \"en\", \"name\": \"English\"}]   \n",
       "freq             NaN          NaN                                      3171   \n",
       "mean    8.226064e+07   106.875859                                       NaN   \n",
       "std     1.628571e+08    22.611935                                       NaN   \n",
       "min     0.000000e+00     0.000000                                       NaN   \n",
       "25%     0.000000e+00    94.000000                                       NaN   \n",
       "50%     1.917000e+07   103.000000                                       NaN   \n",
       "75%     9.291719e+07   118.000000                                       NaN   \n",
       "max     2.787965e+09   338.000000                                       NaN   \n",
       "\n",
       "          status                 tagline     title  vote_average    vote_count  \n",
       "count       4803                    3959      4803   4803.000000   4803.000000  \n",
       "unique         3                    3944      4800           NaN           NaN  \n",
       "top     Released  Based on a true story.  The Host           NaN           NaN  \n",
       "freq        4795                       3         2           NaN           NaN  \n",
       "mean         NaN                     NaN       NaN      6.092172    690.217989  \n",
       "std          NaN                     NaN       NaN      1.194612   1234.585891  \n",
       "min          NaN                     NaN       NaN      0.000000      0.000000  \n",
       "25%          NaN                     NaN       NaN      5.600000     54.000000  \n",
       "50%          NaN                     NaN       NaN      6.200000    235.000000  \n",
       "75%          NaN                     NaN       NaN      6.800000    737.000000  \n",
       "max          NaN                     NaN       NaN     10.000000  13752.000000  "
      ]
     },
     "execution_count": 13,
     "metadata": {},
     "output_type": "execute_result"
    }
   ],
   "source": [
    "movies.describe(include='all')"
   ]
  },
  {
   "cell_type": "code",
   "execution_count": 14,
   "id": "f8bbb0e0-a09e-44a1-acc9-d8833157cdd1",
   "metadata": {
    "tags": []
   },
   "outputs": [
    {
     "data": {
      "text/plain": [
       "budget                    int64\n",
       "genres                   object\n",
       "homepage                 object\n",
       "id                        int64\n",
       "keywords                 object\n",
       "original_language        object\n",
       "original_title           object\n",
       "overview                 object\n",
       "popularity              float64\n",
       "production_companies     object\n",
       "production_countries     object\n",
       "release_date             object\n",
       "revenue                   int64\n",
       "runtime                 float64\n",
       "spoken_languages         object\n",
       "status                   object\n",
       "tagline                  object\n",
       "title                    object\n",
       "vote_average            float64\n",
       "vote_count                int64\n",
       "dtype: object"
      ]
     },
     "execution_count": 14,
     "metadata": {},
     "output_type": "execute_result"
    }
   ],
   "source": [
    "movies.dtypes"
   ]
  },
  {
   "cell_type": "code",
   "execution_count": 15,
   "id": "11f1b843-17cb-4f03-8c66-fdf6a3a101fb",
   "metadata": {
    "tags": []
   },
   "outputs": [
    {
     "data": {
      "text/plain": [
       "4803"
      ]
     },
     "execution_count": 15,
     "metadata": {},
     "output_type": "execute_result"
    }
   ],
   "source": [
    "movies['id'].nunique()"
   ]
  },
  {
   "cell_type": "code",
   "execution_count": 16,
   "id": "a31407a1-f224-4931-95ea-9472e0507afb",
   "metadata": {
    "tags": []
   },
   "outputs": [
    {
     "data": {
      "text/plain": [
       "budget                     0\n",
       "genres                     0\n",
       "homepage                3091\n",
       "id                         0\n",
       "keywords                   0\n",
       "original_language          0\n",
       "original_title             0\n",
       "overview                   3\n",
       "popularity                 0\n",
       "production_companies       0\n",
       "production_countries       0\n",
       "release_date               1\n",
       "revenue                    0\n",
       "runtime                    2\n",
       "spoken_languages           0\n",
       "status                     0\n",
       "tagline                  844\n",
       "title                      0\n",
       "vote_average               0\n",
       "vote_count                 0\n",
       "dtype: int64"
      ]
     },
     "execution_count": 16,
     "metadata": {},
     "output_type": "execute_result"
    }
   ],
   "source": [
    "movies.isnull().sum()"
   ]
  },
  {
   "cell_type": "markdown",
   "id": "38c36f04-cdd9-4b10-aa71-b8cc4303bc8f",
   "metadata": {},
   "source": [
    "# Missing Data Exploration #\n"
   ]
  },
  {
   "cell_type": "markdown",
   "id": "bb985e23-1369-470c-b96f-cd560255e7f1",
   "metadata": {},
   "source": [
    "* Data input as 0 instead of missing\n",
    "* Revenue and Budget \\\n",
    "  &nbsp; &nbsp; Taking different movies with registered 0 revenue and budget, \n",
    "  after a quick Google search we see this is not the   case.\\\n",
    "  &nbsp; &nbsp; Replace for nulls to reduce skewing\n",
    "* Runtimes \\\n",
    "  &nbsp; &nbsp; Removing missing observations"
   ]
  },
  {
   "cell_type": "code",
   "execution_count": 17,
   "id": "4a4eab45-678e-4734-851a-a7856c14cff8",
   "metadata": {
    "tags": []
   },
   "outputs": [
    {
     "data": {
      "text/plain": [
       "revenue\n",
       "0    1427\n",
       "5       1\n",
       "Name: id, dtype: int64"
      ]
     },
     "execution_count": 17,
     "metadata": {},
     "output_type": "execute_result"
    }
   ],
   "source": [
    "movies_revenue_0count = movies.groupby('revenue').count()['id']\n",
    "movies_revenue_0count.head(2)"
   ]
  },
  {
   "cell_type": "code",
   "execution_count": 18,
   "id": "7649340c-9b41-4c79-b9cc-6d192a6fb363",
   "metadata": {
    "tags": []
   },
   "outputs": [
    {
     "data": {
      "text/plain": [
       "budget\n",
       "0    1037\n",
       "1       7\n",
       "Name: id, dtype: int64"
      ]
     },
     "execution_count": 18,
     "metadata": {},
     "output_type": "execute_result"
    }
   ],
   "source": [
    "movies_budget_0count = movies.groupby('budget').count()['id']\n",
    "movies_budget_0count.head(2)"
   ]
  },
  {
   "cell_type": "code",
   "execution_count": 19,
   "id": "e0a8725f-5235-4be3-9d83-897b0f33b39a",
   "metadata": {
    "tags": []
   },
   "outputs": [
    {
     "data": {
      "text/plain": [
       "runtime\n",
       "0.0     35\n",
       "14.0     1\n",
       "Name: id, dtype: int64"
      ]
     },
     "execution_count": 19,
     "metadata": {},
     "output_type": "execute_result"
    }
   ],
   "source": [
    "movies_runtime_0count = movies.groupby('runtime').count()['id']\n",
    "movies_runtime_0count.head(2)"
   ]
  },
  {
   "cell_type": "code",
   "execution_count": 20,
   "id": "a72ac33f-a4b1-468e-9b11-7f9a8cb52cde",
   "metadata": {
    "tags": []
   },
   "outputs": [],
   "source": [
    "movies.query('runtime != 0', inplace=True)"
   ]
  },
  {
   "cell_type": "code",
   "execution_count": 21,
   "id": "81868895-e56d-40de-b332-203fef8d2501",
   "metadata": {
    "tags": []
   },
   "outputs": [
    {
     "data": {
      "text/plain": [
       "runtime\n",
       "14.0    1\n",
       "25.0    1\n",
       "Name: id, dtype: int64"
      ]
     },
     "execution_count": 21,
     "metadata": {},
     "output_type": "execute_result"
    }
   ],
   "source": [
    "movies_runtime_0count = movies.groupby('runtime').count()['id']\n",
    "movies_runtime_0count.head(2)"
   ]
  },
  {
   "cell_type": "code",
   "execution_count": 22,
   "id": "879a4543-ee0b-443a-830e-70374a252b34",
   "metadata": {
    "tags": []
   },
   "outputs": [],
   "source": [
    "movies['budget']=movies['budget'].replace(0, np.NaN)\n",
    "movies['revenue']=movies['revenue'].replace(0, np.NaN)"
   ]
  },
  {
   "cell_type": "code",
   "execution_count": 23,
   "id": "785661e8-11bd-44e1-aa1b-f7816ac52440",
   "metadata": {
    "tags": []
   },
   "outputs": [
    {
     "data": {
      "text/plain": [
       "budget                  1004\n",
       "genres                     0\n",
       "homepage                3061\n",
       "id                         0\n",
       "keywords                   0\n",
       "original_language          0\n",
       "original_title             0\n",
       "overview                   3\n",
       "popularity                 0\n",
       "production_companies       0\n",
       "production_countries       0\n",
       "release_date               0\n",
       "revenue                 1393\n",
       "runtime                    2\n",
       "spoken_languages           0\n",
       "status                     0\n",
       "tagline                  816\n",
       "title                      0\n",
       "vote_average               0\n",
       "vote_count                 0\n",
       "dtype: int64"
      ]
     },
     "execution_count": 23,
     "metadata": {},
     "output_type": "execute_result"
    }
   ],
   "source": [
    "movies.isnull().sum()"
   ]
  },
  {
   "cell_type": "markdown",
   "id": "bae19743-f5a8-441e-97da-cf0c81685068",
   "metadata": {},
   "source": [
    "# Investigating Popularity #\n",
    " &nbsp;&nbsp; Popularity is an aggregate function for TMDB that takes into account various metrics such as the movie being added to Favourites or Plan to Watch."
   ]
  },
  {
   "cell_type": "code",
   "execution_count": 24,
   "id": "cb6c2493-5b7e-49f4-a4a4-a37de22479e9",
   "metadata": {
    "tags": []
   },
   "outputs": [],
   "source": [
    " movies_sorted = movies.sort_values(by='popularity', ascending=False)"
   ]
  },
  {
   "cell_type": "code",
   "execution_count": 25,
   "id": "45d9fef3-1900-45a0-a835-d7200634339f",
   "metadata": {
    "tags": []
   },
   "outputs": [
    {
     "data": {
      "image/png": "[encoded data removed]",
      "text/plain": [
       "<Figure size 1000x600 with 1 Axes>"
      ]
     },
     "metadata": {},
     "output_type": "display_data"
    }
   ],
   "source": [
    "top_10 = movies_sorted.head(10)\n",
    "plt.figure(figsize=(10, 6))\n",
    "plt.bar(top_10['title'], top_10['popularity'], color='gold')\n",
    "plt.xlabel('Movie Title')\n",
    "plt.ylabel('Popularity')\n",
    "plt.title('Top 10 Movies by Popularity')\n",
    "plt.xticks(rotation=45, ha='right')\n",
    "plt.tight_layout()\n",
    "plt.show()"
   ]
  },
  {
   "cell_type": "code",
   "execution_count": 26,
   "id": "8dec1e27-af70-4b0e-8e1c-4e1f77054a91",
   "metadata": {
    "tags": []
   },
   "outputs": [],
   "source": [
    "def extract_genres(movie):\n",
    "   \n",
    "    movie = ast.literal_eval(movie) \n",
    "    \n",
    "    genres = [x['name'] for x in movie] \n",
    "    \n",
    "    return \",\".join(genres) # THX Alex"
   ]
  },
  {
   "cell_type": "code",
   "execution_count": 27,
   "id": "7a509123-74a8-47a6-a56d-0320deb7221e",
   "metadata": {
    "tags": []
   },
   "outputs": [],
   "source": [
    "movies['genres'] = movies['genres'].apply(extract_genres)"
   ]
  },
  {
   "cell_type": "code",
   "execution_count": 28,
   "id": "770be3a9-947a-4f39-ae76-28a1ecc59cff",
   "metadata": {
    "tags": []
   },
   "outputs": [],
   "source": [
    "movies['keywords'] = movies['keywords'].apply(extract_genres)"
   ]
  },
  {
   "cell_type": "code",
   "execution_count": 29,
   "id": "9d9f6e0b-efbb-47b0-9dc0-590978d8e4c4",
   "metadata": {
    "tags": []
   },
   "outputs": [],
   "source": [
    "movies['production_companies'] = movies['production_companies'].apply(extract_genres)"
   ]
  },
  {
   "cell_type": "code",
   "execution_count": 30,
   "id": "23aa5c5f-3799-4c81-967e-7ef7d2550646",
   "metadata": {
    "tags": []
   },
   "outputs": [],
   "source": [
    "movies['production_countries'] = movies['production_countries'].apply(extract_genres)"
   ]
  },
  {
   "cell_type": "code",
   "execution_count": 31,
   "id": "8f357b82-d9c2-45bb-9818-0815a0e81792",
   "metadata": {
    "tags": []
   },
   "outputs": [],
   "source": [
    "movies_sorted = movies.sort_values(by='popularity', ascending=False)"
   ]
  },
  {
   "cell_type": "code",
   "execution_count": 32,
   "id": "7a1c7e9b-76ce-479c-88ec-f7ccd875977a",
   "metadata": {
    "tags": []
   },
   "outputs": [
    {
     "data": {
      "text/html": [
       "<div>\n",
       "<style scoped>\n",
       "    .dataframe tbody tr th:only-of-type {\n",
       "        vertical-align: middle;\n",
       "    }\n",
       "\n",
       "    .dataframe tbody tr th {\n",
       "        vertical-align: top;\n",
       "    }\n",
       "\n",
       "    .dataframe thead th {\n",
       "        text-align: right;\n",
       "    }\n",
       "</style>\n",
       "<table border=\"1\" class=\"dataframe\">\n",
       "  <thead>\n",
       "    <tr style=\"text-align: right;\">\n",
       "      <th></th>\n",
       "      <th>budget</th>\n",
       "      <th>genres</th>\n",
       "      <th>homepage</th>\n",
       "      <th>id</th>\n",
       "      <th>keywords</th>\n",
       "      <th>original_language</th>\n",
       "      <th>original_title</th>\n",
       "      <th>overview</th>\n",
       "      <th>popularity</th>\n",
       "      <th>production_companies</th>\n",
       "      <th>production_countries</th>\n",
       "      <th>release_date</th>\n",
       "      <th>revenue</th>\n",
       "      <th>runtime</th>\n",
       "      <th>spoken_languages</th>\n",
       "      <th>status</th>\n",
       "      <th>tagline</th>\n",
       "      <th>title</th>\n",
       "      <th>vote_average</th>\n",
       "      <th>vote_count</th>\n",
       "    </tr>\n",
       "  </thead>\n",
       "  <tbody>\n",
       "    <tr>\n",
       "      <th>0</th>\n",
       "      <td>237000000.0</td>\n",
       "      <td>Action,Adventure,Fantasy,Science Fiction</td>\n",
       "      <td>http://www.avatarmovie.com/</td>\n",
       "      <td>19995</td>\n",
       "      <td>culture clash,future,space war,space colony,so...</td>\n",
       "      <td>en</td>\n",
       "      <td>Avatar</td>\n",
       "      <td>In the 22nd century, a paraplegic Marine is di...</td>\n",
       "      <td>150.437577</td>\n",
       "      <td>Ingenious Film Partners,Twentieth Century Fox ...</td>\n",
       "      <td>United States of America,United Kingdom</td>\n",
       "      <td>2009-12-10</td>\n",
       "      <td>2.787965e+09</td>\n",
       "      <td>162.0</td>\n",
       "      <td>[{\"iso_639_1\": \"en\", \"name\": \"English\"}, {\"iso...</td>\n",
       "      <td>Released</td>\n",
       "      <td>Enter the World of Pandora.</td>\n",
       "      <td>Avatar</td>\n",
       "      <td>7.2</td>\n",
       "      <td>11800</td>\n",
       "    </tr>\n",
       "    <tr>\n",
       "      <th>1</th>\n",
       "      <td>300000000.0</td>\n",
       "      <td>Adventure,Fantasy,Action</td>\n",
       "      <td>http://disney.go.com/disneypictures/pirates/</td>\n",
       "      <td>285</td>\n",
       "      <td>ocean,drug abuse,exotic island,east india trad...</td>\n",
       "      <td>en</td>\n",
       "      <td>Pirates of the Caribbean: At World's End</td>\n",
       "      <td>Captain Barbossa, long believed to be dead, ha...</td>\n",
       "      <td>139.082615</td>\n",
       "      <td>Walt Disney Pictures,Jerry Bruckheimer Films,S...</td>\n",
       "      <td>United States of America</td>\n",
       "      <td>2007-05-19</td>\n",
       "      <td>9.610000e+08</td>\n",
       "      <td>169.0</td>\n",
       "      <td>[{\"iso_639_1\": \"en\", \"name\": \"English\"}]</td>\n",
       "      <td>Released</td>\n",
       "      <td>At the end of the world, the adventure begins.</td>\n",
       "      <td>Pirates of the Caribbean: At World's End</td>\n",
       "      <td>6.9</td>\n",
       "      <td>4500</td>\n",
       "    </tr>\n",
       "  </tbody>\n",
       "</table>\n",
       "</div>"
      ],
      "text/plain": [
       "        budget                                    genres  \\\n",
       "0  237000000.0  Action,Adventure,Fantasy,Science Fiction   \n",
       "1  300000000.0                  Adventure,Fantasy,Action   \n",
       "\n",
       "                                       homepage     id  \\\n",
       "0                   http://www.avatarmovie.com/  19995   \n",
       "1  http://disney.go.com/disneypictures/pirates/    285   \n",
       "\n",
       "                                            keywords original_language  \\\n",
       "0  culture clash,future,space war,space colony,so...                en   \n",
       "1  ocean,drug abuse,exotic island,east india trad...                en   \n",
       "\n",
       "                             original_title  \\\n",
       "0                                    Avatar   \n",
       "1  Pirates of the Caribbean: At World's End   \n",
       "\n",
       "                                            overview  popularity  \\\n",
       "0  In the 22nd century, a paraplegic Marine is di...  150.437577   \n",
       "1  Captain Barbossa, long believed to be dead, ha...  139.082615   \n",
       "\n",
       "                                production_companies  \\\n",
       "0  Ingenious Film Partners,Twentieth Century Fox ...   \n",
       "1  Walt Disney Pictures,Jerry Bruckheimer Films,S...   \n",
       "\n",
       "                      production_countries release_date       revenue  \\\n",
       "0  United States of America,United Kingdom   2009-12-10  2.787965e+09   \n",
       "1                 United States of America   2007-05-19  9.610000e+08   \n",
       "\n",
       "   runtime                                   spoken_languages    status  \\\n",
       "0    162.0  [{\"iso_639_1\": \"en\", \"name\": \"English\"}, {\"iso...  Released   \n",
       "1    169.0           [{\"iso_639_1\": \"en\", \"name\": \"English\"}]  Released   \n",
       "\n",
       "                                          tagline  \\\n",
       "0                     Enter the World of Pandora.   \n",
       "1  At the end of the world, the adventure begins.   \n",
       "\n",
       "                                      title  vote_average  vote_count  \n",
       "0                                    Avatar           7.2       11800  \n",
       "1  Pirates of the Caribbean: At World's End           6.9        4500  "
      ]
     },
     "execution_count": 32,
     "metadata": {},
     "output_type": "execute_result"
    }
   ],
   "source": [
    "movies.head(2)"
   ]
  },
  {
   "cell_type": "code",
   "execution_count": 33,
   "id": "3e7ace57-5364-4c9b-90f5-b0307ac79825",
   "metadata": {
    "tags": []
   },
   "outputs": [],
   "source": [
    "selected_columns = ['budget', 'popularity', 'runtime', 'revenue', 'vote_average', 'vote_count']\n",
    "df = movies[selected_columns]"
   ]
  },
  {
   "cell_type": "code",
   "execution_count": 40,
   "id": "f6f9434b-0658-44cd-a18c-0530155b729a",
   "metadata": {
    "tags": []
   },
   "outputs": [
    {
     "data": {
      "image/png": "[encoded data removed]",
      "text/plain": [
       "<Figure size 600x600 with 2 Axes>"
      ]
     },
     "metadata": {},
     "output_type": "display_data"
    }
   ],
   "source": [
    "plt.figure(figsize = (6, 6))\n",
    "sns.heatmap(df.corr(numeric_only = True),\n",
    "            annot = True,\n",
    "           cmap = 'cividis',\n",
    "           vmin=-1, vmax=1)\n",
    "plt.xticks(rotation=45, ha='right')\n",
    "plt.yticks(rotation=45, ha='right')\n",
    "plt.show()"
   ]
  },
  {
   "cell_type": "code",
   "execution_count": null,
   "id": "e431f8ae-b831-4c95-bfe8-7d69cfa63936",
   "metadata": {
    "tags": []
   },
   "outputs": [],
   "source": [
    "movies.isnull().sum()"
   ]
  },
  {
   "cell_type": "code",
   "execution_count": 35,
   "id": "31cfa4c7-0ecf-4668-a029-3dcada4d32a1",
   "metadata": {
    "tags": []
   },
   "outputs": [],
   "source": [
    "# Define a function that takes a column and concats all the entries using ','.\n",
    "# Using the ',' all the entries are spareted and put into a list.\n",
    "# Returns the top preset 'num=' number of most common entries. \n",
    "\n",
    "def top(col, num=10):\n",
    "    alist = col.str.cat(sep=',').split(',')\n",
    "    new = pd.DataFrame({'List':alist})\n",
    "    top = new['List'].value_counts().head(num)\n",
    "    return top"
   ]
  },
  {
   "cell_type": "code",
   "execution_count": 42,
   "id": "05e140a8-575c-4a58-982b-ebf4e0f349b1",
   "metadata": {
    "tags": []
   },
   "outputs": [],
   "source": [
    "top_100=movies_sorted.head(100)"
   ]
  },
  {
   "cell_type": "code",
   "execution_count": 43,
   "id": "fadb45fb-20e5-4494-bbfc-8c6a1d4396fd",
   "metadata": {
    "tags": []
   },
   "outputs": [],
   "source": [
    "company=top(top_100.production_companies)"
   ]
  },
  {
   "cell_type": "code",
   "execution_count": 44,
   "id": "f7a79966-27c5-4c44-b513-c5910266da79",
   "metadata": {
    "tags": []
   },
   "outputs": [
    {
     "data": {
      "text/plain": [
       "List\n",
       "Warner Bros.                              17\n",
       "Twentieth Century Fox Film Corporation    13\n",
       "Walt Disney Pictures                      12\n",
       "Paramount Pictures                        10\n",
       "TSG Entertainment                          9\n",
       "Universal Pictures                         8\n",
       "Legendary Pictures                         7\n",
       "New Line Cinema                            7\n",
       "Marvel Studios                             7\n",
       "Syncopy                                    6\n",
       "Name: count, dtype: int64"
      ]
     },
     "execution_count": 44,
     "metadata": {},
     "output_type": "execute_result"
    }
   ],
   "source": [
    "company"
   ]
  },
  {
   "cell_type": "code",
   "execution_count": 69,
   "id": "f83c6912-c964-4465-843f-2a7a0c5c63ed",
   "metadata": {
    "tags": []
   },
   "outputs": [
    {
     "data": {
      "image/png": "[encoded data removed]",
      "text/plain": [
       "<Figure size 1000x600 with 1 Axes>"
      ]
     },
     "metadata": {},
     "output_type": "display_data"
    }
   ],
   "source": [
    "top_10 = company.head(10)\n",
    "plt.figure(figsize=(10, 6))\n",
    "plt.bar(top_10.index, top_10.values, color='darkblue')\n",
    "plt.xlabel('Company Name')\n",
    "plt.title('Top 10 companies figuring in the 100 most popular movies')\n",
    "plt.ylabel('Popularity')\n",
    "plt.xticks(rotation=45, ha='right')\n",
    "plt.tight_layout()\n",
    "plt.show()"
   ]
  },
  {
   "cell_type": "markdown",
   "id": "b17b1c65-d7b4-4326-b74d-fb36aea0a0b2",
   "metadata": {},
   "source": [
    "# Selecting Movies #\n",
    "\n",
    "* Tidal Wave \\\n",
    "    &nbsp;&nbsp; To showcase the use of foreign characters in the dataset.\n",
    "* Inception \\\n",
    "    &nbsp;&nbsp; The movie with the highest vote count. Exploring the relationship between votes and popularity."
   ]
  },
  {
   "cell_type": "code",
   "execution_count": 71,
   "id": "3f327312-6a78-44d5-9182-9ba1c0668eb8",
   "metadata": {
    "tags": []
   },
   "outputs": [
    {
     "data": {
      "text/html": [
       "<div>\n",
       "<style scoped>\n",
       "    .dataframe tbody tr th:only-of-type {\n",
       "        vertical-align: middle;\n",
       "    }\n",
       "\n",
       "    .dataframe tbody tr th {\n",
       "        vertical-align: top;\n",
       "    }\n",
       "\n",
       "    .dataframe thead th {\n",
       "        text-align: right;\n",
       "    }\n",
       "</style>\n",
       "<table border=\"1\" class=\"dataframe\">\n",
       "  <thead>\n",
       "    <tr style=\"text-align: right;\">\n",
       "      <th></th>\n",
       "      <th>budget</th>\n",
       "      <th>genres</th>\n",
       "      <th>homepage</th>\n",
       "      <th>id</th>\n",
       "      <th>keywords</th>\n",
       "      <th>original_language</th>\n",
       "      <th>original_title</th>\n",
       "      <th>overview</th>\n",
       "      <th>popularity</th>\n",
       "      <th>production_companies</th>\n",
       "      <th>...</th>\n",
       "      <th>release_date</th>\n",
       "      <th>revenue</th>\n",
       "      <th>runtime</th>\n",
       "      <th>spoken_languages</th>\n",
       "      <th>status</th>\n",
       "      <th>tagline</th>\n",
       "      <th>title</th>\n",
       "      <th>vote_average</th>\n",
       "      <th>vote_count</th>\n",
       "      <th>total_votes</th>\n",
       "    </tr>\n",
       "  </thead>\n",
       "  <tbody>\n",
       "    <tr>\n",
       "      <th>2521</th>\n",
       "      <td>16000000.0</td>\n",
       "      <td>Action,Adventure,Drama,Thriller</td>\n",
       "      <td>NaN</td>\n",
       "      <td>33196</td>\n",
       "      <td>helicopter,beach,loss of father,giant wave,tsu...</td>\n",
       "      <td>ko</td>\n",
       "      <td>해운대</td>\n",
       "      <td>Man-sik and Yeon-hee, are unsure as to whether...</td>\n",
       "      <td>4.628525</td>\n",
       "      <td>Polygon Entertainment,CJ Entertainment,Doosabu...</td>\n",
       "      <td>...</td>\n",
       "      <td>2009-06-06</td>\n",
       "      <td>11301649.0</td>\n",
       "      <td>120.0</td>\n",
       "      <td>[{\"iso_639_1\": \"en\", \"name\": \"English\"}, {\"iso...</td>\n",
       "      <td>Released</td>\n",
       "      <td>NaN</td>\n",
       "      <td>Tidal Wave</td>\n",
       "      <td>6.5</td>\n",
       "      <td>48</td>\n",
       "      <td>312.0</td>\n",
       "    </tr>\n",
       "  </tbody>\n",
       "</table>\n",
       "<p>1 rows × 21 columns</p>\n",
       "</div>"
      ],
      "text/plain": [
       "          budget                           genres homepage     id  \\\n",
       "2521  16000000.0  Action,Adventure,Drama,Thriller      NaN  33196   \n",
       "\n",
       "                                               keywords original_language  \\\n",
       "2521  helicopter,beach,loss of father,giant wave,tsu...                ko   \n",
       "\n",
       "     original_title                                           overview  \\\n",
       "2521            해운대  Man-sik and Yeon-hee, are unsure as to whether...   \n",
       "\n",
       "      popularity                               production_companies  ...  \\\n",
       "2521    4.628525  Polygon Entertainment,CJ Entertainment,Doosabu...  ...   \n",
       "\n",
       "     release_date     revenue  runtime  \\\n",
       "2521   2009-06-06  11301649.0    120.0   \n",
       "\n",
       "                                       spoken_languages    status tagline  \\\n",
       "2521  [{\"iso_639_1\": \"en\", \"name\": \"English\"}, {\"iso...  Released     NaN   \n",
       "\n",
       "           title vote_average  vote_count  total_votes  \n",
       "2521  Tidal Wave          6.5          48        312.0  \n",
       "\n",
       "[1 rows x 21 columns]"
      ]
     },
     "execution_count": 71,
     "metadata": {},
     "output_type": "execute_result"
    }
   ],
   "source": [
    "movies[movies['original_title'] == '해운대']"
   ]
  },
  {
   "cell_type": "code",
   "execution_count": 66,
   "id": "892f47b8-25c8-4ea3-9eab-9b8ccc45bbbc",
   "metadata": {
    "tags": []
   },
   "outputs": [
    {
     "data": {
      "text/html": [
       "<div>\n",
       "<style scoped>\n",
       "    .dataframe tbody tr th:only-of-type {\n",
       "        vertical-align: middle;\n",
       "    }\n",
       "\n",
       "    .dataframe tbody tr th {\n",
       "        vertical-align: top;\n",
       "    }\n",
       "\n",
       "    .dataframe thead th {\n",
       "        text-align: right;\n",
       "    }\n",
       "</style>\n",
       "<table border=\"1\" class=\"dataframe\">\n",
       "  <thead>\n",
       "    <tr style=\"text-align: right;\">\n",
       "      <th></th>\n",
       "      <th>budget</th>\n",
       "      <th>genres</th>\n",
       "      <th>homepage</th>\n",
       "      <th>id</th>\n",
       "      <th>keywords</th>\n",
       "      <th>original_language</th>\n",
       "      <th>original_title</th>\n",
       "      <th>overview</th>\n",
       "      <th>popularity</th>\n",
       "      <th>production_companies</th>\n",
       "      <th>...</th>\n",
       "      <th>release_date</th>\n",
       "      <th>revenue</th>\n",
       "      <th>runtime</th>\n",
       "      <th>spoken_languages</th>\n",
       "      <th>status</th>\n",
       "      <th>tagline</th>\n",
       "      <th>title</th>\n",
       "      <th>vote_average</th>\n",
       "      <th>vote_count</th>\n",
       "      <th>total_votes</th>\n",
       "    </tr>\n",
       "  </thead>\n",
       "  <tbody>\n",
       "    <tr>\n",
       "      <th>96</th>\n",
       "      <td>160000000.0</td>\n",
       "      <td>Action,Thriller,Science Fiction,Mystery,Adventure</td>\n",
       "      <td>http://inceptionmovie.warnerbros.com/</td>\n",
       "      <td>27205</td>\n",
       "      <td>loss of lover,dream,kidnapping,sleep,subconsci...</td>\n",
       "      <td>en</td>\n",
       "      <td>Inception</td>\n",
       "      <td>Cobb, a skilled thief who commits corporate es...</td>\n",
       "      <td>167.58371</td>\n",
       "      <td>Legendary Pictures,Warner Bros.,Syncopy</td>\n",
       "      <td>...</td>\n",
       "      <td>2010-07-14</td>\n",
       "      <td>825532764.0</td>\n",
       "      <td>148.0</td>\n",
       "      <td>[{\"iso_639_1\": \"en\", \"name\": \"English\"}, {\"iso...</td>\n",
       "      <td>Released</td>\n",
       "      <td>Your mind is the scene of the crime.</td>\n",
       "      <td>Inception</td>\n",
       "      <td>8.1</td>\n",
       "      <td>13752</td>\n",
       "      <td>111391.2</td>\n",
       "    </tr>\n",
       "  </tbody>\n",
       "</table>\n",
       "<p>1 rows × 21 columns</p>\n",
       "</div>"
      ],
      "text/plain": [
       "         budget                                             genres  \\\n",
       "96  160000000.0  Action,Thriller,Science Fiction,Mystery,Adventure   \n",
       "\n",
       "                                 homepage     id  \\\n",
       "96  http://inceptionmovie.warnerbros.com/  27205   \n",
       "\n",
       "                                             keywords original_language  \\\n",
       "96  loss of lover,dream,kidnapping,sleep,subconsci...                en   \n",
       "\n",
       "   original_title                                           overview  \\\n",
       "96      Inception  Cobb, a skilled thief who commits corporate es...   \n",
       "\n",
       "    popularity                     production_companies  ... release_date  \\\n",
       "96   167.58371  Legendary Pictures,Warner Bros.,Syncopy  ...   2010-07-14   \n",
       "\n",
       "        revenue  runtime                                   spoken_languages  \\\n",
       "96  825532764.0    148.0  [{\"iso_639_1\": \"en\", \"name\": \"English\"}, {\"iso...   \n",
       "\n",
       "      status                               tagline      title vote_average  \\\n",
       "96  Released  Your mind is the scene of the crime.  Inception          8.1   \n",
       "\n",
       "    vote_count  total_votes  \n",
       "96       13752     111391.2  \n",
       "\n",
       "[1 rows x 21 columns]"
      ]
     },
     "execution_count": 66,
     "metadata": {},
     "output_type": "execute_result"
    }
   ],
   "source": [
    " movies.sort_values(by='vote_count', ascending=False).head(1)"
   ]
  },
  {
   "cell_type": "markdown",
   "id": "716fd45c-3bc3-4c93-a54e-b0a9287fed08",
   "metadata": {},
   "source": [
    "Popularity as a metric is most closely related to a combination of number of votes and average vote. While vote average is not a good metric by itself, since some movies have very few entries giving an unrealistic average, vote count seems to be a good indicator of what gets people's attention. "
   ]
  },
  {
   "cell_type": "markdown",
   "id": "c100295f-0c6c-4d3b-a2a2-7ef1e185eae3",
   "metadata": {},
   "source": [
    "### Further Analysis ###\n",
    "\n",
    "White Spaces in some of the columns with multiple entries.\n",
    "\n",
    "* Looking for explanatory categorical variables for popularity\n"
   ]
  },
  {
   "cell_type": "code",
   "execution_count": 48,
   "id": "72010152-d6b8-4740-add9-7d89cc152e0b",
   "metadata": {
    "tags": []
   },
   "outputs": [
    {
     "data": {
      "text/plain": [
       "List\n",
       "                        388\n",
       "woman director          322\n",
       "independent film        315\n",
       "duringcreditsstinger    307\n",
       "based on novel          197\n",
       "murder                  189\n",
       "aftercreditsstinger     170\n",
       "violence                150\n",
       "dystopia                139\n",
       "sport                   126\n",
       "Name: count, dtype: int64"
      ]
     },
     "execution_count": 48,
     "metadata": {},
     "output_type": "execute_result"
    }
   ],
   "source": [
    "top(movies.keywords)"
   ]
  },
  {
   "cell_type": "code",
   "execution_count": 49,
   "id": "998c48e6-c852-4697-8c43-2858a702296e",
   "metadata": {
    "tags": []
   },
   "outputs": [
    {
     "data": {
      "text/plain": [
       "List\n",
       "3d                      26\n",
       "aftercreditsstinger     18\n",
       "superhero               15\n",
       "duringcreditsstinger    14\n",
       "based on novel          14\n",
       "based on comic book     14\n",
       "dystopia                14\n",
       "sequel                  12\n",
       "marvel comic            11\n",
       "imax                     8\n",
       "Name: count, dtype: int64"
      ]
     },
     "execution_count": 49,
     "metadata": {},
     "output_type": "execute_result"
    }
   ],
   "source": [
    "top(top_100.keywords)"
   ]
  },
  {
   "cell_type": "code",
   "execution_count": 50,
   "id": "c97d9810-65c6-4600-9551-68599c36c90d",
   "metadata": {
    "tags": []
   },
   "outputs": [
    {
     "data": {
      "text/plain": [
       "List\n",
       "Drama              2290\n",
       "Comedy             1716\n",
       "Thriller           1271\n",
       "Action             1153\n",
       "Romance             892\n",
       "Adventure           789\n",
       "Crime               693\n",
       "Science Fiction     535\n",
       "Horror              511\n",
       "Family              511\n",
       "Name: count, dtype: int64"
      ]
     },
     "execution_count": 50,
     "metadata": {},
     "output_type": "execute_result"
    }
   ],
   "source": [
    "top(movies.genres)"
   ]
  },
  {
   "cell_type": "code",
   "execution_count": 51,
   "id": "8738fc93-3737-4760-a80f-3ae104a68e8d",
   "metadata": {
    "tags": []
   },
   "outputs": [
    {
     "data": {
      "text/plain": [
       "List\n",
       "Adventure          59\n",
       "Action             57\n",
       "Science Fiction    35\n",
       "Drama              32\n",
       "Fantasy            32\n",
       "Thriller           24\n",
       "Family             19\n",
       "Comedy             16\n",
       "Crime              12\n",
       "Animation          11\n",
       "Name: count, dtype: int64"
      ]
     },
     "execution_count": 51,
     "metadata": {},
     "output_type": "execute_result"
    }
   ],
   "source": [
    "top(top_100.genres)"
   ]
  },
  {
   "cell_type": "code",
   "execution_count": 54,
   "id": "0d8e5726-7f4a-4b30-9e75-45bbd9651d64",
   "metadata": {
    "tags": []
   },
   "outputs": [
    {
     "data": {
      "text/plain": [
       "List\n",
       "en    4472\n",
       "fr      70\n",
       "es      32\n",
       "zh      27\n",
       "de      26\n",
       "hi      18\n",
       "ja      16\n",
       "it      14\n",
       "cn      12\n",
       "ru      11\n",
       "Name: count, dtype: int64"
      ]
     },
     "execution_count": 54,
     "metadata": {},
     "output_type": "execute_result"
    }
   ],
   "source": [
    "top(movies.original_language)"
   ]
  },
  {
   "cell_type": "code",
   "execution_count": 55,
   "id": "45a1c11f-ef27-4e29-9354-a2956156e978",
   "metadata": {
    "tags": []
   },
   "outputs": [
    {
     "data": {
      "text/plain": [
       "List\n",
       "United States of America    3951\n",
       "United Kingdom               636\n",
       "Germany                      324\n",
       "France                       306\n",
       "Canada                       260\n",
       "                             148\n",
       "Australia                    110\n",
       "Italy                         72\n",
       "Spain                         71\n",
       "China                         59\n",
       "Name: count, dtype: int64"
      ]
     },
     "execution_count": 55,
     "metadata": {},
     "output_type": "execute_result"
    }
   ],
   "source": [
    "top(movies.production_countries)"
   ]
  },
  {
   "cell_type": "code",
   "execution_count": 57,
   "id": "87c9b7f8-7b44-4ccf-b38a-95a3c9fa77b7",
   "metadata": {
    "tags": []
   },
   "outputs": [
    {
     "data": {
      "text/html": [
       "<div>\n",
       "<style scoped>\n",
       "    .dataframe tbody tr th:only-of-type {\n",
       "        vertical-align: middle;\n",
       "    }\n",
       "\n",
       "    .dataframe tbody tr th {\n",
       "        vertical-align: top;\n",
       "    }\n",
       "\n",
       "    .dataframe thead th {\n",
       "        text-align: right;\n",
       "    }\n",
       "</style>\n",
       "<table border=\"1\" class=\"dataframe\">\n",
       "  <thead>\n",
       "    <tr style=\"text-align: right;\">\n",
       "      <th></th>\n",
       "      <th>budget</th>\n",
       "      <th>genres</th>\n",
       "      <th>homepage</th>\n",
       "      <th>id</th>\n",
       "      <th>keywords</th>\n",
       "      <th>original_language</th>\n",
       "      <th>original_title</th>\n",
       "      <th>overview</th>\n",
       "      <th>popularity</th>\n",
       "      <th>production_companies</th>\n",
       "      <th>production_countries</th>\n",
       "      <th>release_date</th>\n",
       "      <th>revenue</th>\n",
       "      <th>runtime</th>\n",
       "      <th>spoken_languages</th>\n",
       "      <th>status</th>\n",
       "      <th>tagline</th>\n",
       "      <th>title</th>\n",
       "      <th>vote_average</th>\n",
       "      <th>vote_count</th>\n",
       "    </tr>\n",
       "  </thead>\n",
       "  <tbody>\n",
       "    <tr>\n",
       "      <th>4045</th>\n",
       "      <td>NaN</td>\n",
       "      <td>Comedy,Drama,Family</td>\n",
       "      <td>NaN</td>\n",
       "      <td>78373</td>\n",
       "      <td>small town,texas</td>\n",
       "      <td>en</td>\n",
       "      <td>Dancer, Texas Pop. 81</td>\n",
       "      <td>Four guys, best friends, have grown up togethe...</td>\n",
       "      <td>0.376662</td>\n",
       "      <td>HSX Films,Chase Productions</td>\n",
       "      <td>United States of America</td>\n",
       "      <td>1998-05-01</td>\n",
       "      <td>565592.0</td>\n",
       "      <td>97.0</td>\n",
       "      <td>[{\"iso_639_1\": \"en\", \"name\": \"English\"}]</td>\n",
       "      <td>Released</td>\n",
       "      <td>in the middle of nowhere they had everything</td>\n",
       "      <td>Dancer, Texas Pop. 81</td>\n",
       "      <td>10.0</td>\n",
       "      <td>1</td>\n",
       "    </tr>\n",
       "    <tr>\n",
       "      <th>3519</th>\n",
       "      <td>NaN</td>\n",
       "      <td>Comedy</td>\n",
       "      <td>NaN</td>\n",
       "      <td>89861</td>\n",
       "      <td>italy,victorian england,young woman</td>\n",
       "      <td>en</td>\n",
       "      <td>Stiff Upper Lips</td>\n",
       "      <td>Stiff Upper Lips is a broad parody of British ...</td>\n",
       "      <td>0.356495</td>\n",
       "      <td></td>\n",
       "      <td>United Kingdom,India</td>\n",
       "      <td>1998-06-12</td>\n",
       "      <td>NaN</td>\n",
       "      <td>99.0</td>\n",
       "      <td>[{\"iso_639_1\": \"en\", \"name\": \"English\"}]</td>\n",
       "      <td>Released</td>\n",
       "      <td>NaN</td>\n",
       "      <td>Stiff Upper Lips</td>\n",
       "      <td>10.0</td>\n",
       "      <td>1</td>\n",
       "    </tr>\n",
       "  </tbody>\n",
       "</table>\n",
       "</div>"
      ],
      "text/plain": [
       "      budget               genres homepage     id  \\\n",
       "4045     NaN  Comedy,Drama,Family      NaN  78373   \n",
       "3519     NaN               Comedy      NaN  89861   \n",
       "\n",
       "                                 keywords original_language  \\\n",
       "4045                     small town,texas                en   \n",
       "3519  italy,victorian england,young woman                en   \n",
       "\n",
       "             original_title  \\\n",
       "4045  Dancer, Texas Pop. 81   \n",
       "3519       Stiff Upper Lips   \n",
       "\n",
       "                                               overview  popularity  \\\n",
       "4045  Four guys, best friends, have grown up togethe...    0.376662   \n",
       "3519  Stiff Upper Lips is a broad parody of British ...    0.356495   \n",
       "\n",
       "             production_companies      production_countries release_date  \\\n",
       "4045  HSX Films,Chase Productions  United States of America   1998-05-01   \n",
       "3519                                   United Kingdom,India   1998-06-12   \n",
       "\n",
       "       revenue  runtime                          spoken_languages    status  \\\n",
       "4045  565592.0     97.0  [{\"iso_639_1\": \"en\", \"name\": \"English\"}]  Released   \n",
       "3519       NaN     99.0  [{\"iso_639_1\": \"en\", \"name\": \"English\"}]  Released   \n",
       "\n",
       "                                           tagline                  title  \\\n",
       "4045  in the middle of nowhere they had everything  Dancer, Texas Pop. 81   \n",
       "3519                                           NaN       Stiff Upper Lips   \n",
       "\n",
       "      vote_average  vote_count  \n",
       "4045          10.0           1  \n",
       "3519          10.0           1  "
      ]
     },
     "execution_count": 57,
     "metadata": {},
     "output_type": "execute_result"
    }
   ],
   "source": [
    "movies.sort_values(by='vote_average', ascending=False).head(2)"
   ]
  },
  {
   "cell_type": "code",
   "execution_count": 58,
   "id": "5edecaa7-89eb-44ce-8224-23b932473a22",
   "metadata": {
    "tags": []
   },
   "outputs": [],
   "source": [
    "movies['total_votes'] = movies['vote_average'] * movies['vote_count']"
   ]
  },
  {
   "cell_type": "code",
   "execution_count": 59,
   "id": "2568aade-db57-44aa-b675-509a46f82d1c",
   "metadata": {
    "tags": []
   },
   "outputs": [
    {
     "data": {
      "text/html": [
       "<div>\n",
       "<style scoped>\n",
       "    .dataframe tbody tr th:only-of-type {\n",
       "        vertical-align: middle;\n",
       "    }\n",
       "\n",
       "    .dataframe tbody tr th {\n",
       "        vertical-align: top;\n",
       "    }\n",
       "\n",
       "    .dataframe thead th {\n",
       "        text-align: right;\n",
       "    }\n",
       "</style>\n",
       "<table border=\"1\" class=\"dataframe\">\n",
       "  <thead>\n",
       "    <tr style=\"text-align: right;\">\n",
       "      <th></th>\n",
       "      <th>budget</th>\n",
       "      <th>genres</th>\n",
       "      <th>homepage</th>\n",
       "      <th>id</th>\n",
       "      <th>keywords</th>\n",
       "      <th>original_language</th>\n",
       "      <th>original_title</th>\n",
       "      <th>overview</th>\n",
       "      <th>popularity</th>\n",
       "      <th>production_companies</th>\n",
       "      <th>...</th>\n",
       "      <th>release_date</th>\n",
       "      <th>revenue</th>\n",
       "      <th>runtime</th>\n",
       "      <th>spoken_languages</th>\n",
       "      <th>status</th>\n",
       "      <th>tagline</th>\n",
       "      <th>title</th>\n",
       "      <th>vote_average</th>\n",
       "      <th>vote_count</th>\n",
       "      <th>total_votes</th>\n",
       "    </tr>\n",
       "  </thead>\n",
       "  <tbody>\n",
       "    <tr>\n",
       "      <th>96</th>\n",
       "      <td>160000000.0</td>\n",
       "      <td>Action,Thriller,Science Fiction,Mystery,Adventure</td>\n",
       "      <td>http://inceptionmovie.warnerbros.com/</td>\n",
       "      <td>27205</td>\n",
       "      <td>loss of lover,dream,kidnapping,sleep,subconsci...</td>\n",
       "      <td>en</td>\n",
       "      <td>Inception</td>\n",
       "      <td>Cobb, a skilled thief who commits corporate es...</td>\n",
       "      <td>167.583710</td>\n",
       "      <td>Legendary Pictures,Warner Bros.,Syncopy</td>\n",
       "      <td>...</td>\n",
       "      <td>2010-07-14</td>\n",
       "      <td>8.255328e+08</td>\n",
       "      <td>148.0</td>\n",
       "      <td>[{\"iso_639_1\": \"en\", \"name\": \"English\"}, {\"iso...</td>\n",
       "      <td>Released</td>\n",
       "      <td>Your mind is the scene of the crime.</td>\n",
       "      <td>Inception</td>\n",
       "      <td>8.1</td>\n",
       "      <td>13752</td>\n",
       "      <td>111391.2</td>\n",
       "    </tr>\n",
       "    <tr>\n",
       "      <th>65</th>\n",
       "      <td>185000000.0</td>\n",
       "      <td>Drama,Action,Crime,Thriller</td>\n",
       "      <td>http://thedarkknight.warnerbros.com/dvdsite/</td>\n",
       "      <td>155</td>\n",
       "      <td>dc comics,crime fighter,secret identity,scarec...</td>\n",
       "      <td>en</td>\n",
       "      <td>The Dark Knight</td>\n",
       "      <td>Batman raises the stakes in his war on crime. ...</td>\n",
       "      <td>187.322927</td>\n",
       "      <td>DC Comics,Legendary Pictures,Warner Bros.,DC E...</td>\n",
       "      <td>...</td>\n",
       "      <td>2008-07-16</td>\n",
       "      <td>1.004558e+09</td>\n",
       "      <td>152.0</td>\n",
       "      <td>[{\"iso_639_1\": \"en\", \"name\": \"English\"}, {\"iso...</td>\n",
       "      <td>Released</td>\n",
       "      <td>Why So Serious?</td>\n",
       "      <td>The Dark Knight</td>\n",
       "      <td>8.2</td>\n",
       "      <td>12002</td>\n",
       "      <td>98416.4</td>\n",
       "    </tr>\n",
       "    <tr>\n",
       "      <th>95</th>\n",
       "      <td>165000000.0</td>\n",
       "      <td>Adventure,Drama,Science Fiction</td>\n",
       "      <td>http://www.interstellarmovie.net/</td>\n",
       "      <td>157336</td>\n",
       "      <td>saving the world,artificial intelligence,fathe...</td>\n",
       "      <td>en</td>\n",
       "      <td>Interstellar</td>\n",
       "      <td>Interstellar chronicles the adventures of a gr...</td>\n",
       "      <td>724.247784</td>\n",
       "      <td>Paramount Pictures,Legendary Pictures,Warner B...</td>\n",
       "      <td>...</td>\n",
       "      <td>2014-11-05</td>\n",
       "      <td>6.751200e+08</td>\n",
       "      <td>169.0</td>\n",
       "      <td>[{\"iso_639_1\": \"en\", \"name\": \"English\"}]</td>\n",
       "      <td>Released</td>\n",
       "      <td>Mankind was born on Earth. It was never meant ...</td>\n",
       "      <td>Interstellar</td>\n",
       "      <td>8.1</td>\n",
       "      <td>10867</td>\n",
       "      <td>88022.7</td>\n",
       "    </tr>\n",
       "    <tr>\n",
       "      <th>16</th>\n",
       "      <td>220000000.0</td>\n",
       "      <td>Science Fiction,Action,Adventure</td>\n",
       "      <td>http://marvel.com/avengers_movie/</td>\n",
       "      <td>24428</td>\n",
       "      <td>new york,shield,marvel comic,superhero,based o...</td>\n",
       "      <td>en</td>\n",
       "      <td>The Avengers</td>\n",
       "      <td>When an unexpected enemy emerges and threatens...</td>\n",
       "      <td>144.448633</td>\n",
       "      <td>Paramount Pictures,Marvel Studios</td>\n",
       "      <td>...</td>\n",
       "      <td>2012-04-25</td>\n",
       "      <td>1.519558e+09</td>\n",
       "      <td>143.0</td>\n",
       "      <td>[{\"iso_639_1\": \"en\", \"name\": \"English\"}]</td>\n",
       "      <td>Released</td>\n",
       "      <td>Some assembly required.</td>\n",
       "      <td>The Avengers</td>\n",
       "      <td>7.4</td>\n",
       "      <td>11776</td>\n",
       "      <td>87142.4</td>\n",
       "    </tr>\n",
       "    <tr>\n",
       "      <th>0</th>\n",
       "      <td>237000000.0</td>\n",
       "      <td>Action,Adventure,Fantasy,Science Fiction</td>\n",
       "      <td>http://www.avatarmovie.com/</td>\n",
       "      <td>19995</td>\n",
       "      <td>culture clash,future,space war,space colony,so...</td>\n",
       "      <td>en</td>\n",
       "      <td>Avatar</td>\n",
       "      <td>In the 22nd century, a paraplegic Marine is di...</td>\n",
       "      <td>150.437577</td>\n",
       "      <td>Ingenious Film Partners,Twentieth Century Fox ...</td>\n",
       "      <td>...</td>\n",
       "      <td>2009-12-10</td>\n",
       "      <td>2.787965e+09</td>\n",
       "      <td>162.0</td>\n",
       "      <td>[{\"iso_639_1\": \"en\", \"name\": \"English\"}, {\"iso...</td>\n",
       "      <td>Released</td>\n",
       "      <td>Enter the World of Pandora.</td>\n",
       "      <td>Avatar</td>\n",
       "      <td>7.2</td>\n",
       "      <td>11800</td>\n",
       "      <td>84960.0</td>\n",
       "    </tr>\n",
       "  </tbody>\n",
       "</table>\n",
       "<p>5 rows × 21 columns</p>\n",
       "</div>"
      ],
      "text/plain": [
       "         budget                                             genres  \\\n",
       "96  160000000.0  Action,Thriller,Science Fiction,Mystery,Adventure   \n",
       "65  185000000.0                        Drama,Action,Crime,Thriller   \n",
       "95  165000000.0                    Adventure,Drama,Science Fiction   \n",
       "16  220000000.0                   Science Fiction,Action,Adventure   \n",
       "0   237000000.0           Action,Adventure,Fantasy,Science Fiction   \n",
       "\n",
       "                                        homepage      id  \\\n",
       "96         http://inceptionmovie.warnerbros.com/   27205   \n",
       "65  http://thedarkknight.warnerbros.com/dvdsite/     155   \n",
       "95             http://www.interstellarmovie.net/  157336   \n",
       "16             http://marvel.com/avengers_movie/   24428   \n",
       "0                    http://www.avatarmovie.com/   19995   \n",
       "\n",
       "                                             keywords original_language  \\\n",
       "96  loss of lover,dream,kidnapping,sleep,subconsci...                en   \n",
       "65  dc comics,crime fighter,secret identity,scarec...                en   \n",
       "95  saving the world,artificial intelligence,fathe...                en   \n",
       "16  new york,shield,marvel comic,superhero,based o...                en   \n",
       "0   culture clash,future,space war,space colony,so...                en   \n",
       "\n",
       "     original_title                                           overview  \\\n",
       "96        Inception  Cobb, a skilled thief who commits corporate es...   \n",
       "65  The Dark Knight  Batman raises the stakes in his war on crime. ...   \n",
       "95     Interstellar  Interstellar chronicles the adventures of a gr...   \n",
       "16     The Avengers  When an unexpected enemy emerges and threatens...   \n",
       "0            Avatar  In the 22nd century, a paraplegic Marine is di...   \n",
       "\n",
       "    popularity                               production_companies  ...  \\\n",
       "96  167.583710            Legendary Pictures,Warner Bros.,Syncopy  ...   \n",
       "65  187.322927  DC Comics,Legendary Pictures,Warner Bros.,DC E...  ...   \n",
       "95  724.247784  Paramount Pictures,Legendary Pictures,Warner B...  ...   \n",
       "16  144.448633                  Paramount Pictures,Marvel Studios  ...   \n",
       "0   150.437577  Ingenious Film Partners,Twentieth Century Fox ...  ...   \n",
       "\n",
       "   release_date       revenue  runtime  \\\n",
       "96   2010-07-14  8.255328e+08    148.0   \n",
       "65   2008-07-16  1.004558e+09    152.0   \n",
       "95   2014-11-05  6.751200e+08    169.0   \n",
       "16   2012-04-25  1.519558e+09    143.0   \n",
       "0    2009-12-10  2.787965e+09    162.0   \n",
       "\n",
       "                                     spoken_languages    status  \\\n",
       "96  [{\"iso_639_1\": \"en\", \"name\": \"English\"}, {\"iso...  Released   \n",
       "65  [{\"iso_639_1\": \"en\", \"name\": \"English\"}, {\"iso...  Released   \n",
       "95           [{\"iso_639_1\": \"en\", \"name\": \"English\"}]  Released   \n",
       "16           [{\"iso_639_1\": \"en\", \"name\": \"English\"}]  Released   \n",
       "0   [{\"iso_639_1\": \"en\", \"name\": \"English\"}, {\"iso...  Released   \n",
       "\n",
       "                                              tagline            title  \\\n",
       "96               Your mind is the scene of the crime.        Inception   \n",
       "65                                    Why So Serious?  The Dark Knight   \n",
       "95  Mankind was born on Earth. It was never meant ...     Interstellar   \n",
       "16                            Some assembly required.     The Avengers   \n",
       "0                         Enter the World of Pandora.           Avatar   \n",
       "\n",
       "   vote_average  vote_count  total_votes  \n",
       "96          8.1       13752     111391.2  \n",
       "65          8.2       12002      98416.4  \n",
       "95          8.1       10867      88022.7  \n",
       "16          7.4       11776      87142.4  \n",
       "0           7.2       11800      84960.0  \n",
       "\n",
       "[5 rows x 21 columns]"
      ]
     },
     "execution_count": 59,
     "metadata": {},
     "output_type": "execute_result"
    }
   ],
   "source": [
    "movies.sort_values(by='total_votes', ascending=False).head(5)"
   ]
  },
  {
   "cell_type": "code",
   "execution_count": null,
   "id": "7d356fca-b5a0-49ee-a6c9-e0ed35883b7b",
   "metadata": {
    "tags": []
   },
   "outputs": [],
   "source": []
  },
  {
   "cell_type": "code",
   "execution_count": null,
   "id": "89180030-4135-42c9-855b-4f50d4f469f9",
   "metadata": {},
   "outputs": [],
   "source": []
  }
 ],
 "metadata": {
  "kernelspec": {
   "display_name": "Python 3 (ipykernel)",
   "language": "python",
   "name": "python3"
  },
  "language_info": {
   "codemirror_mode": {
    "name": "ipython",
    "version": 3
   },
   "file_extension": ".py",
   "mimetype": "text/x-python",
   "name": "python",
   "nbconvert_exporter": "python",
   "pygments_lexer": "ipython3",
   "version": "3.11.5"
  }
 },
 "nbformat": 4,
 "nbformat_minor": 5
}
